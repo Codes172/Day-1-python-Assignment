{
  "nbformat": 4,
  "nbformat_minor": 0,
  "metadata": {
    "colab": {
      "name": "Day-1 Python Assignment submission.ipynb",
      "provenance": [],
      "authorship_tag": "ABX9TyO5jawRXReefAh/ZQaChSau",
      "include_colab_link": true
    },
    "kernelspec": {
      "name": "python3",
      "display_name": "Python 3"
    },
    "language_info": {
      "name": "python"
    }
  },
  "cells": [
    {
      "cell_type": "markdown",
      "metadata": {
        "id": "view-in-github",
        "colab_type": "text"
      },
      "source": [
        "<a href=\"https://colab.research.google.com/github/Codes172/Day-1-python-Assignment/blob/main/Day_1_Python_Assignment_submission.ipynb\" target=\"_parent\"><img src=\"https://colab.research.google.com/assets/colab-badge.svg\" alt=\"Open In Colab\"/></a>"
      ]
    },
    {
      "cell_type": "code",
      "metadata": {
        "colab": {
          "base_uri": "https://localhost:8080/"
        },
        "id": "jRDtsYufq0WK",
        "outputId": "1c3b1d14-fbc8-4805-adfc-8d7c9f97e656"
      },
      "source": [
        "# Question: Take input for a list and Sort a list in descending order.\n",
        "# Solution\n",
        "list = [int(i) for i in input(\"Enter your Values:\").split()]\n",
        "print(list)\n",
        "list.sort()\n",
        "print(list) #Printing in ascending order \n",
        "list.reverse()\n",
        "print(list) #Printing in descending order\n"
      ],
      "execution_count": 8,
      "outputs": [
        {
          "output_type": "stream",
          "text": [
            "Enter your Values:1 9 8 4 5 6 3 10 13 2 7\n",
            "[1, 9, 8, 4, 5, 6, 3, 10, 13, 2, 7]\n",
            "[1, 2, 3, 4, 5, 6, 7, 8, 9, 10, 13]\n",
            "[13, 10, 9, 8, 7, 6, 5, 4, 3, 2, 1]\n"
          ],
          "name": "stdout"
        }
      ]
    },
    {
      "cell_type": "code",
      "metadata": {
        "id": "OWAPWwmrq7Dt"
      },
      "source": [
        ""
      ],
      "execution_count": null,
      "outputs": []
    }
  ]
}