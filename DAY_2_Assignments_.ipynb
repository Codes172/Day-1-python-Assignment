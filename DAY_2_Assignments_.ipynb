{
  "nbformat": 4,
  "nbformat_minor": 0,
  "metadata": {
    "colab": {
      "name": "DAY-2 Assignments .ipynb",
      "provenance": [],
      "authorship_tag": "ABX9TyM6g0emo4bbeCepRCuI/QMU",
      "include_colab_link": true
    },
    "kernelspec": {
      "name": "python3",
      "display_name": "Python 3"
    },
    "language_info": {
      "name": "python"
    }
  },
  "cells": [
    {
      "cell_type": "markdown",
      "metadata": {
        "id": "view-in-github",
        "colab_type": "text"
      },
      "source": [
        "<a href=\"https://colab.research.google.com/github/Codes172/python-Assignments/blob/main/DAY_2_Assignments_.ipynb\" target=\"_parent\"><img src=\"https://colab.research.google.com/assets/colab-badge.svg\" alt=\"Open In Colab\"/></a>"
      ]
    },
    {
      "cell_type": "code",
      "metadata": {
        "colab": {
          "base_uri": "https://localhost:8080/"
        },
        "id": "ZecVDkvxwSUn",
        "outputId": "7993d327-dad6-46f3-a3cb-9d4d0f2b86a9"
      },
      "source": [
        "# Question: Remove all the occurences of an element from a list\n",
        "List = [2, 1, 3, 5, 1, 1, 1, 0]\n",
        "Removed = 1\n",
        " # 1. Using a loop\n",
        "try:\n",
        "    while True:\n",
        "        List.remove(Removed)\n",
        "except ValueError:\n",
        "    pass\n",
        " \n",
        "print(myList)\n",
        "\n",
        "#2. Converting list into set\n",
        "List = [2, 1, 3, 5, 1, 1, 1, 0]\n",
        "set_list = {2,1,3,5,1,1,1,0}\n",
        "set_list.remove(1)\n",
        "print(set_list)\n",
        "\n",
        "#3. Using remove\n",
        "List = [2, 1, 3, 5, 1, 1, 1, 0]\n",
        "List.remove(1)\n",
        "List.remove(1)\n",
        "List.remove(1)\n",
        "List.remove(1)\n",
        "print(List)\n",
        "\n"
      ],
      "execution_count": 26,
      "outputs": [
        {
          "output_type": "stream",
          "text": [
            "[2, 3, 5, 0]\n",
            "{0, 2, 3, 5}\n",
            "[2, 3, 5, 0]\n"
          ],
          "name": "stdout"
        }
      ]
    },
    {
      "cell_type": "code",
      "metadata": {
        "id": "bsZUG09K06b2"
      },
      "source": [
        ""
      ],
      "execution_count": null,
      "outputs": []
    },
    {
      "cell_type": "code",
      "metadata": {
        "colab": {
          "base_uri": "https://localhost:8080/"
        },
        "id": "fzrrJRGR0WIb",
        "outputId": "ec86b883-d362-41e6-bfdc-a331be9da536"
      },
      "source": [
        "# Question : Check whether a string is a pangram\n",
        "\n",
        "import string\n",
        "string_ = string.ascii_lowercase\n",
        "print(string_)\n",
        "_one = \"The Quick Brown Fox Jumps Over The Lazy Dog\"\n",
        "print(\"The string is a Pangram\") if set(_one.lower()) >= set(string_) else print(\"The string is Nota Pangram\")\n",
        "\n",
        "   \n",
        "      \n",
        "\n"
      ],
      "execution_count": 38,
      "outputs": [
        {
          "output_type": "stream",
          "text": [
            "abcdefghijklmnopqrstuvwxyz\n",
            "The string is a Panagram\n"
          ],
          "name": "stdout"
        }
      ]
    }
  ]
}
