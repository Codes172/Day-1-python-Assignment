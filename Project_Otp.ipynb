{
  "nbformat": 4,
  "nbformat_minor": 0,
  "metadata": {
    "colab": {
      "name": "Project-Otp.ipynb",
      "provenance": [],
      "authorship_tag": "ABX9TyOj9md2Tc0E0tkRY1K5m8LR",
      "include_colab_link": true
    },
    "kernelspec": {
      "name": "python3",
      "display_name": "Python 3"
    },
    "language_info": {
      "name": "python"
    }
  },
  "cells": [
    {
      "cell_type": "markdown",
      "metadata": {
        "id": "view-in-github",
        "colab_type": "text"
      },
      "source": [
        "<a href=\"https://colab.research.google.com/github/Codes172/python-Assignments/blob/main/Project_Otp.ipynb\" target=\"_parent\"><img src=\"https://colab.research.google.com/assets/colab-badge.svg\" alt=\"Open In Colab\"/></a>"
      ]
    },
    {
      "cell_type": "code",
      "metadata": {
        "colab": {
          "base_uri": "https://localhost:8080/"
        },
        "id": "BO3gjc4zIq9y",
        "outputId": "d6e2f821-91ad-4115-85d7-4b09672add9a"
      },
      "source": [
        "#Project : OTP generator\n",
        "# generate 6 char otp\n",
        "import random as r\n",
        "import string\n",
        "# Using both lower and upper case letters and numbers\n",
        "length = 4\n",
        "otp = ''\n",
        "characters = string.ascii_letters + string.digits\n",
        "print(characters)\n",
        "\n",
        "for i in range(length):\n",
        " otp = otp + r.choice(characters)\n",
        " print(\"OTP:\" ,otp)\n",
        " # Using only numbers\n",
        " length = 4\n",
        "otp = ''\n",
        "characters =  string.digits\n",
        "print(characters)\n",
        "\n",
        "for i in range(length):\n",
        " otp = otp + r.choice(characters)\n",
        " print(\"OTP:\" ,otp)\n"
      ],
      "execution_count": 1,
      "outputs": [
        {
          "output_type": "stream",
          "text": [
            "abcdefghijklmnopqrstuvwxyzABCDEFGHIJKLMNOPQRSTUVWXYZ0123456789\n",
            "OTP: L\n",
            "OTP: LE\n",
            "OTP: LEm\n",
            "OTP: LEmy\n",
            "0123456789\n",
            "OTP: 1\n",
            "OTP: 10\n",
            "OTP: 105\n",
            "OTP: 1051\n"
          ],
          "name": "stdout"
        }
      ]
    }
  ]
}